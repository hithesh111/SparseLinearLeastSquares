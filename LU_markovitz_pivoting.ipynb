{
 "cells": [
  {
   "cell_type": "code",
   "execution_count": 1,
   "id": "68963e24",
   "metadata": {},
   "outputs": [],
   "source": [
    "import numpy as np\n",
    "from numpy.linalg import inv, pinv, matrix_rank, norm\n",
    "from scipy.linalg import lu\n",
    "from time import time"
   ]
  },
  {
   "cell_type": "code",
   "execution_count": 2,
   "id": "b52515dd",
   "metadata": {},
   "outputs": [],
   "source": [
    "def non_zero(a):\n",
    "    a = np.array(a,np.float64)\n",
    "    m = a.shape[0]\n",
    "    return sum(a!=0)\n",
    "\n",
    "def choose_pivot(A):\n",
    "    A = np.array(A,np.float64)\n",
    "    m = A.shape[0]\n",
    "    n = A.shape[1]\n",
    "    r = matrix_rank(A)\n",
    "    \n",
    "    n_product_nz = 1e15\n",
    "    pivot = [0,0]\n",
    "    \n",
    "    for i in range(m):\n",
    "        for j in range(n):\n",
    "            if(A[i,j]!=0):\n",
    "                nz_row = non_zero(A[i,:]) - 1\n",
    "                nz_col = non_zero(A[:,j]) - 1\n",
    "                if(nz_row*nz_col < n_product_nz):\n",
    "                    n_product_nz = nz_row*nz_col\n",
    "                    pivot = [i,j]\n",
    "    \n",
    "    return pivot"
   ]
  },
  {
   "cell_type": "code",
   "execution_count": 3,
   "id": "050d2ca0",
   "metadata": {},
   "outputs": [],
   "source": [
    "def swap_pivot(A,pivot):\n",
    "    i = pivot[0]\n",
    "    j = pivot[1]\n",
    "    A = np.array(A,np.float64)\n",
    "    A[[0,i],:] = A[[i,0],:]\n",
    "    A[:,[0,j]] = A[:,[j,0]]\n",
    "    return A"
   ]
  },
  {
   "cell_type": "code",
   "execution_count": 50,
   "id": "2a636148",
   "metadata": {},
   "outputs": [],
   "source": [
    "def find_pivot_matrices(A):\n",
    "    m = A.shape[0]\n",
    "    n = A.shape[1]\n",
    "    r = matrix_rank(A)\n",
    "    \n",
    "    P1 = np.eye(m)\n",
    "    P2 = np.eye(n)\n",
    "    \n",
    "    for i in range(r):\n",
    "        B = A[i:,i:]\n",
    "        k,l = choose_pivot(B)   \n",
    "        print(k,l)\n",
    "        B = swap_pivot(B,[k,l])\n",
    "        P1[[i+0,i+k],i:] = P1[[i+k,i+0],i:]\n",
    "        P2[i:,[i+0,i+l]] = P2[i:,[i+l,i+0]]\n",
    "        \n",
    "        A[i:,i:] = B\n",
    "    return P1, P2"
   ]
  },
  {
   "cell_type": "code",
   "execution_count": 67,
   "id": "66cfc57f",
   "metadata": {
    "scrolled": true
   },
   "outputs": [
    {
     "data": {
      "text/plain": [
       "array([[0, 1, 2, 0],\n",
       "       [2, 1, 0, 0],\n",
       "       [0, 0, 0, 3],\n",
       "       [1, 0, 2, 0]])"
      ]
     },
     "execution_count": 67,
     "metadata": {},
     "output_type": "execute_result"
    }
   ],
   "source": [
    "A = np.array([[0,1,2,0],[2,1,0,0],[0,0,0,3],[1,0,2,0]])\n",
    "A"
   ]
  },
  {
   "cell_type": "code",
   "execution_count": 68,
   "id": "831809e5",
   "metadata": {},
   "outputs": [
    {
     "data": {
      "text/plain": [
       "[2, 3]"
      ]
     },
     "execution_count": 68,
     "metadata": {},
     "output_type": "execute_result"
    }
   ],
   "source": [
    "pivot = choose_pivot(A)\n",
    "pivot"
   ]
  },
  {
   "cell_type": "code",
   "execution_count": 69,
   "id": "3a14b942",
   "metadata": {},
   "outputs": [
    {
     "data": {
      "text/plain": [
       "array([[3., 0., 0., 0.],\n",
       "       [0., 1., 0., 2.],\n",
       "       [0., 1., 2., 0.],\n",
       "       [0., 0., 2., 1.]])"
      ]
     },
     "execution_count": 69,
     "metadata": {},
     "output_type": "execute_result"
    }
   ],
   "source": [
    "swap_pivot(A,pivot)"
   ]
  },
  {
   "cell_type": "code",
   "execution_count": 11,
   "id": "6d700ac4",
   "metadata": {},
   "outputs": [],
   "source": [
    "def get_permutation_matrix(A,axis,i,j):\n",
    "    A = np.array(A,np.float64)\n",
    "    m = A.shape[0]\n",
    "    n = A.shape[1]\n",
    "    if(axis == 0):\n",
    "        P = np.eye(m)\n",
    "        P[i,i] = 0\n",
    "        P[j,j] = 0\n",
    "        P[i,j] = 1\n",
    "        P[j,i] = 1\n",
    "    else:\n",
    "        P = np.eye(n)\n",
    "        P[i,i] = 0\n",
    "        P[j,j] = 0\n",
    "        P[i,j] = 1\n",
    "        P[j,i] = 1\n",
    "    return P"
   ]
  },
  {
   "cell_type": "code",
   "execution_count": 12,
   "id": "d70264c6",
   "metadata": {},
   "outputs": [],
   "source": [
    "def elimination(A):\n",
    "    A = np.array(A,np.float64)\n",
    "    m = A.shape[0]\n",
    "    n = A.shape[1]\n",
    "    r = matrix_rank(A)\n",
    "    \n",
    "    factors = []\n",
    "    for i in range(1,m):\n",
    "        if(A[0,0]!=0):\n",
    "            factor = A[i,0]/A[0,0]\n",
    "        else:\n",
    "            factor = 0\n",
    "        A[i,:] = A[i,:] - factor*A[0,:]\n",
    "        factors.append(factor)\n",
    "    return A,factors"
   ]
  },
  {
   "cell_type": "code",
   "execution_count": 13,
   "id": "4de793b3",
   "metadata": {},
   "outputs": [],
   "source": [
    "#Wrong and Incomplete\n",
    "\n",
    "def LU_Markovitz(A):\n",
    "    A = np.array(A,np.float64)\n",
    "    m = A.shape[0]\n",
    "    n = A.shape[1]\n",
    "    r = matrix_rank(A)\n",
    "    U = A.copy()\n",
    "    L = np.eye(m,m)\n",
    "    P_left = []\n",
    "    P_right = []\n",
    "    for i in range(min(m,n)):\n",
    "        B = U[i:,i:]\n",
    "        \n",
    "        k,l = choose_pivot(B)\n",
    "        \n",
    "        B = swap_pivot(B,[k,l])\n",
    "        \n",
    "        P1_i = get_permutation_matrix(B,0,k,0)\n",
    "        P1 = np.eye(m)\n",
    "        P1[i:,i:] = P1_i\n",
    "        P_left.append(P1)\n",
    "        \n",
    "        P2_i = get_permutation_matrix(B,1,0,l)\n",
    "        P2 = np.eye(n)\n",
    "        P2[i:,i:] = P2_i\n",
    "        P_right.append(P2)\n",
    "        \n",
    "        B,factors = elimination(B)\n",
    "        L[i+1:,i] = factors\n",
    "        U[i:,i:] = B\n",
    "        \n",
    "    P1 = np.eye(m)\n",
    "    P2 = np.eye(n)\n",
    "    \n",
    "    for i in range(len(P_left)):\n",
    "        P1 = np.dot(P1,P_left[i])\n",
    "    for i in range(len(P_right)):\n",
    "        P2 = np.dot(P2,P_right[i])\n",
    "        \n",
    "    U = np.dot(P1,np.dot(A,P2)).copy()\n",
    "    L = np.eye(m,m)     \n",
    "    for i in range(r):\n",
    "        B = U[i:,i:]\n",
    "        B,factors = elimination(B)\n",
    "        L[i+1:,i] = factors\n",
    "        U[i:,i:] = B\n",
    "        \n",
    "    return P1,P2,L,U"
   ]
  },
  {
   "cell_type": "code",
   "execution_count": 14,
   "id": "641b8a9e",
   "metadata": {},
   "outputs": [
    {
     "data": {
      "text/plain": [
       "array([[0., 1., 0.],\n",
       "       [2., 0., 2.],\n",
       "       [3., 0., 0.]])"
      ]
     },
     "execution_count": 14,
     "metadata": {},
     "output_type": "execute_result"
    }
   ],
   "source": [
    "A = np.array([[0,1,0],[2,0,2],[3,0,0]])\n",
    "A = np.float64(A)\n",
    "A"
   ]
  },
  {
   "cell_type": "code",
   "execution_count": 15,
   "id": "7b4d6ce7",
   "metadata": {},
   "outputs": [],
   "source": [
    "m = 40\n",
    "n = 50\n",
    "A = np.round(np.random.randn(m,n)/3)"
   ]
  },
  {
   "cell_type": "code",
   "execution_count": 16,
   "id": "9b74702f",
   "metadata": {},
   "outputs": [],
   "source": [
    "P1,P2,L,U = LU_Markovitz(A)"
   ]
  },
  {
   "cell_type": "code",
   "execution_count": 17,
   "id": "fc82d458",
   "metadata": {},
   "outputs": [
    {
     "data": {
      "text/plain": [
       "array([[0., 0., 0., ..., 0., 0., 0.],\n",
       "       [0., 0., 0., ..., 0., 0., 0.],\n",
       "       [0., 0., 0., ..., 0., 0., 0.],\n",
       "       ...,\n",
       "       [1., 0., 0., ..., 0., 0., 0.],\n",
       "       [0., 0., 0., ..., 0., 0., 0.],\n",
       "       [0., 0., 0., ..., 0., 0., 0.]])"
      ]
     },
     "execution_count": 17,
     "metadata": {},
     "output_type": "execute_result"
    }
   ],
   "source": [
    "np.round(np.dot(P1,np.dot(A,P2)) - np.dot(L,U),2)"
   ]
  },
  {
   "cell_type": "code",
   "execution_count": 19,
   "id": "298af79b",
   "metadata": {},
   "outputs": [],
   "source": [
    "def non_zero_matrix(A):\n",
    "    m,n = A.shape\n",
    "    return np.sum(A.reshape(1,m*n)!=0)"
   ]
  },
  {
   "cell_type": "code",
   "execution_count": 20,
   "id": "9e330ec4",
   "metadata": {},
   "outputs": [
    {
     "name": "stdout",
     "output_type": "stream",
     "text": [
      "Markovitz Pivoting - Sparsity Analysis\n",
      "\n",
      "Dimensions of A = 40,50\n",
      "No of entries in A = 2000\n",
      "No on non_zero entries in A = 276\n",
      "No on non_zero entries in L = 51\n",
      "No on non_zero entries in U = 296\n",
      "No on non_zero entries in L'L = 70\n",
      "Time taken = 0.8480000495910645\n"
     ]
    }
   ],
   "source": [
    "#LU by Markovitz Pivoting (Sparsity preserving)\n",
    "t1 = time()\n",
    "P1,P2,L,U = LU_Markovitz(A)\n",
    "t2 = time()\n",
    "\n",
    "print(\"Markovitz Pivoting - Sparsity Analysis\\n\")\n",
    "print(\"Dimensions of A = {},{}\".format(m,n))\n",
    "print(\"No of entries in A = {}\".format(m*n))\n",
    "print(\"No on non_zero entries in A = {}\".format(non_zero_matrix(A)))\n",
    "print(\"No on non_zero entries in L = {}\".format(non_zero_matrix(L)))\n",
    "print(\"No on non_zero entries in U = {}\".format(non_zero_matrix(U)))\n",
    "print(\"No on non_zero entries in L'L = {}\".format(non_zero_matrix(np.dot(np.transpose(L),L))))\n",
    "print(\"Time taken = {}\".format(t2-t1))"
   ]
  },
  {
   "cell_type": "code",
   "execution_count": 21,
   "id": "17ad8ea8",
   "metadata": {},
   "outputs": [
    {
     "name": "stdout",
     "output_type": "stream",
     "text": [
      "Scipy Default Pivoting - Sparsity Analysis\n",
      "\n",
      "Dimensions of A = 40,50\n",
      "No of entries in A = 2000\n",
      "No on non_zero entries in A = 276\n",
      "No on non_zero entries in L = 434\n",
      "No on non_zero entries in U = 787\n",
      "No on non_zero entries in L'L = 1376\n",
      "Time taken = 0.0009999275207519531\n"
     ]
    }
   ],
   "source": [
    "#Scipy default Pivoting\n",
    "t1 = time()\n",
    "P0,L0,U0 = lu(A)\n",
    "t2 = time()\n",
    "\n",
    "\n",
    "print(\"Scipy Default Pivoting - Sparsity Analysis\\n\")\n",
    "print(\"Dimensions of A = {},{}\".format(m,n))\n",
    "print(\"No of entries in A = {}\".format(m*n))\n",
    "print(\"No on non_zero entries in A = {}\".format(non_zero_matrix(A)))\n",
    "print(\"No on non_zero entries in L = {}\".format(non_zero_matrix(L0)))\n",
    "print(\"No on non_zero entries in U = {}\".format(non_zero_matrix(U0)))\n",
    "print(\"No on non_zero entries in L'L = {}\".format(non_zero_matrix(np.dot(np.transpose(L0),L0))))\n",
    "print(\"Time taken = {}\".format(t2-t1))"
   ]
  },
  {
   "cell_type": "code",
   "execution_count": 22,
   "id": "fca0fb69",
   "metadata": {},
   "outputs": [],
   "source": [
    "A = np.eye(m,n) + np.round(np.random.randn(m,n)/4)"
   ]
  },
  {
   "cell_type": "code",
   "execution_count": 23,
   "id": "47d161c4",
   "metadata": {},
   "outputs": [
    {
     "name": "stdout",
     "output_type": "stream",
     "text": [
      "Markovitz Pivoting - Sparsity Analysis\n",
      "\n",
      "Dimensions of A = 40,50\n",
      "No of entries in A = 2000\n",
      "No on non_zero entries in A = 145\n",
      "No on non_zero entries in L = 41\n",
      "No on non_zero entries in U = 145\n",
      "No on non_zero entries in L'L = 42\n",
      "Time taken = 0.3749985694885254\n"
     ]
    }
   ],
   "source": [
    "#LU by Markovitz Pivoting (Sparsity preserving)\n",
    "t1 = time()\n",
    "P1,P2,L,U = LU_Markovitz(A)\n",
    "t2 = time()\n",
    "\n",
    "print(\"Markovitz Pivoting - Sparsity Analysis\\n\")\n",
    "print(\"Dimensions of A = {},{}\".format(m,n))\n",
    "print(\"No of entries in A = {}\".format(m*n))\n",
    "print(\"No on non_zero entries in A = {}\".format(non_zero_matrix(A)))\n",
    "print(\"No on non_zero entries in L = {}\".format(non_zero_matrix(L)))\n",
    "print(\"No on non_zero entries in U = {}\".format(non_zero_matrix(U)))\n",
    "print(\"No on non_zero entries in L'L = {}\".format(non_zero_matrix(np.dot(np.transpose(L),L))))\n",
    "print(\"Time taken = {}\".format(t2-t1))"
   ]
  },
  {
   "cell_type": "code",
   "execution_count": 24,
   "id": "b54f6feb",
   "metadata": {
    "scrolled": true
   },
   "outputs": [
    {
     "name": "stdout",
     "output_type": "stream",
     "text": [
      "Scipy Default Pivoting - Sparsity Analysis\n",
      "\n",
      "Dimensions of A = 40,50\n",
      "No of entries in A = 2000\n",
      "No on non_zero entries in A = 145\n",
      "No on non_zero entries in L = 192\n",
      "No on non_zero entries in U = 384\n",
      "No on non_zero entries in L'L = 704\n",
      "Time taken = 0.0009999275207519531\n"
     ]
    }
   ],
   "source": [
    "#Scipy default Pivoting\n",
    "t1 = time()\n",
    "P0,L0,U0 = lu(A)\n",
    "t2 = time()\n",
    "\n",
    "\n",
    "print(\"Scipy Default Pivoting - Sparsity Analysis\\n\")\n",
    "print(\"Dimensions of A = {},{}\".format(m,n))\n",
    "print(\"No of entries in A = {}\".format(m*n))\n",
    "print(\"No on non_zero entries in A = {}\".format(non_zero_matrix(A)))\n",
    "print(\"No on non_zero entries in L = {}\".format(non_zero_matrix(L0)))\n",
    "print(\"No on non_zero entries in U = {}\".format(non_zero_matrix(U0)))\n",
    "print(\"No on non_zero entries in L'L = {}\".format(non_zero_matrix(np.dot(np.transpose(L0),L0))))\n",
    "print(\"Time taken = {}\".format(t2-t1))"
   ]
  },
  {
   "cell_type": "code",
   "execution_count": 25,
   "id": "b4e8f2a0",
   "metadata": {},
   "outputs": [
    {
     "data": {
      "text/plain": [
       "array([[0., 0., 0., ..., 0., 0., 0.],\n",
       "       [0., 0., 0., ..., 0., 0., 0.],\n",
       "       [0., 0., 0., ..., 0., 0., 0.],\n",
       "       ...,\n",
       "       [0., 0., 0., ..., 0., 0., 0.],\n",
       "       [0., 0., 0., ..., 0., 0., 0.],\n",
       "       [0., 0., 0., ..., 0., 0., 0.]])"
      ]
     },
     "execution_count": 25,
     "metadata": {},
     "output_type": "execute_result"
    }
   ],
   "source": [
    "np.round(np.dot(P1,np.dot(A,P2)) - np.dot(L,U),2)"
   ]
  },
  {
   "cell_type": "code",
   "execution_count": 26,
   "id": "d1cb806b",
   "metadata": {},
   "outputs": [
    {
     "data": {
      "text/plain": [
       "0"
      ]
     },
     "execution_count": 26,
     "metadata": {},
     "output_type": "execute_result"
    }
   ],
   "source": [
    "non_zero_matrix(np.round(np.dot(P1,np.dot(A,P2)) - np.dot(L,U),2))"
   ]
  }
 ],
 "metadata": {
  "kernelspec": {
   "display_name": "Python 3",
   "language": "python",
   "name": "python3"
  },
  "language_info": {
   "codemirror_mode": {
    "name": "ipython",
    "version": 3
   },
   "file_extension": ".py",
   "mimetype": "text/x-python",
   "name": "python",
   "nbconvert_exporter": "python",
   "pygments_lexer": "ipython3",
   "version": "3.8.8"
  }
 },
 "nbformat": 4,
 "nbformat_minor": 5
}
